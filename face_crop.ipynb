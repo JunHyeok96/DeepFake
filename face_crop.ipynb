{
 "cells": [
  {
   "cell_type": "code",
   "execution_count": null,
   "metadata": {
    "scrolled": true
   },
   "outputs": [],
   "source": [
    "import cv2 \n",
    "\n",
    "# 카메라에 접근하기 위해 VideoCapture 객체를 생성\n",
    "cap = cv2.VideoCapture(\"lee2.mp4\")\n",
    "face_cascade = cv2.CascadeClassifier(\"haarcascade_frontalface_default.xml\")\n",
    "\n",
    "while(True):\n",
    "\n",
    "    # 이미지를 캡쳐\n",
    "    ret, img = cap.read()\n",
    "\n",
    "    # 캡쳐되지 않은 경우 처리\n",
    "    if ret == False:\n",
    "        break;\n",
    "    try:        \n",
    "        faces = face_cascade.detectMultiScale(img, 1.3,5)\n",
    "        for (x,y,w,h) in faces:\n",
    "            cropped = img[y - int(h/4):y + h + int(h/4), x - int(w/4):x + w + int(w/4)]\n",
    "            img= img[y:y+h, x:x+w]     \n",
    "            img = cv2.resize(img, (64,64))\n",
    "        #index+=1\n",
    "        #cv2.imwrite('./data/{:04d}.png'.format(index),img)\n",
    "        cv2.imshow(\"VideoFrame\", img)\n",
    "\n",
    "    except:\n",
    "        continue\n",
    "        \n",
    "    # ESC 키누르면 종료\n",
    "    if cv2.waitKey(1) & 0xFF == 27:\n",
    "        break\n",
    "        \n",
    "# VideoCapture 객체를 메모리 해제하고 모든 윈도우 창을 종료합니다.\n",
    "cap.release()\n",
    "cv2.destroyAllWindows()"
   ]
  },
  {
   "cell_type": "code",
   "execution_count": null,
   "metadata": {},
   "outputs": [],
   "source": []
  }
 ],
 "metadata": {
  "kernelspec": {
   "display_name": "Python 3",
   "language": "python",
   "name": "python3"
  },
  "language_info": {
   "codemirror_mode": {
    "name": "ipython",
    "version": 3
   },
   "file_extension": ".py",
   "mimetype": "text/x-python",
   "name": "python",
   "nbconvert_exporter": "python",
   "pygments_lexer": "ipython3",
   "version": "3.6.8"
  }
 },
 "nbformat": 4,
 "nbformat_minor": 2
}
